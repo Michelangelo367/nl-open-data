{
 "cells": [
  {
   "cell_type": "code",
   "execution_count": 6,
   "metadata": {},
   "outputs": [
    {
     "output_type": "stream",
     "name": "stdout",
     "text": "[2020-05-10 19:26:15] INFO - prefect.FlowRunner | Beginning Flow run for 'Example'\n[2020-05-10 19:26:15] INFO - prefect.FlowRunner | Starting flow run.\n[2020-05-10 19:26:15] INFO - prefect.TaskRunner | Task 'GCP_CREDENTIALS': Starting task run...\n[2020-05-10 19:26:15] INFO - prefect.TaskRunner | Task 'GCP_CREDENTIALS': finished task run for task with final state: 'Success'\n[2020-05-10 19:26:15] INFO - prefect.TaskRunner | Task 'print_value': Starting task run...\n44\n[2020-05-10 19:26:15] INFO - prefect.TaskRunner | Task 'print_value': finished task run for task with final state: 'Success'\n[2020-05-10 19:26:15] INFO - prefect.FlowRunner | Flow run SUCCESS: all reference tasks succeeded\n"
    }
   ],
   "source": [
    "import prefect\n",
    "from prefect import task, Flow\n",
    "from prefect.tasks.secrets import PrefectSecret\n",
    "from prefect.utilities.configuration import set_temporary_config\n",
    "\n",
    "@task\n",
    "def print_value(x):\n",
    "    print(x)\n",
    "\n",
    "with Flow(\"Example\") as flow:\n",
    "    secret = PrefectSecret(name=\"GCP_CREDENTIALS\")\n",
    "    print_value(secret)\n",
    "\n",
    "# with prefect.context.configuration()\n",
    "with set_temporary_config({\"cloud.use_local_secrets\": True}): \n",
    "    with prefect.context(secrets=dict(GCP_CREDENTIALS=44)): \n",
    "        flow.run()\n",
    "\n"
   ]
  },
  {
   "cell_type": "code",
   "execution_count": null,
   "metadata": {},
   "outputs": [],
   "source": []
  }
 ],
 "metadata": {
  "language_info": {
   "codemirror_mode": {
    "name": "ipython",
    "version": 3
   },
   "file_extension": ".py",
   "mimetype": "text/x-python",
   "name": "python",
   "nbconvert_exporter": "python",
   "pygments_lexer": "ipython3",
   "version": "3.8.2-final"
  },
  "orig_nbformat": 2,
  "kernelspec": {
   "name": "python38264bitopendataconda3d30426a2a5d4c589cd28311a8bda0e9",
   "display_name": "Python 3.8.2 64-bit ('opendata': conda)"
  }
 },
 "nbformat": 4,
 "nbformat_minor": 2
}