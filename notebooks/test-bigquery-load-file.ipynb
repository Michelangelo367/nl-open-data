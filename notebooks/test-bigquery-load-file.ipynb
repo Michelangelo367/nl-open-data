{
  "cells": [
    {
      "cell_type": "code",
      "execution_count": 1,
      "metadata": {
        "execution": {
          "iopub.execute_input": "2020-05-11T06:16:13.171Z",
          "iopub.status.busy": "2020-05-11T06:16:13.164Z",
          "iopub.status.idle": "2020-05-11T06:16:22.964Z",
          "shell.execute_reply": "2020-05-11T06:16:22.997Z"
        }
      },
      "outputs": [],
      "source": [
        "import io\n",
        "from pathlib import Path\n",
        "\n",
        "from google.cloud import bigquery\n",
        "\n",
        "\n",
        "ndjson = io.BytesIO(b\"\"\"{\"ID\":0,\"BedrijfstakkenBranches\":\"300010\",\"Perioden\":\"2005KW01\",\"IndexcijfersOmzet_1\":\"74.0\",\"OmzetontwikkelingTOVEenJaarEerder_2\":\".\"}\n",
        "{\"ID\":1,\"BedrijfstakkenBranches\":\"300010\",\"Perioden\":\"2005KW02\",\"IndexcijfersOmzet_1\":\"84.0\",\"OmzetontwikkelingTOVEenJaarEerder_2\":\".\"}\n",
        "{\"ID\":2,\"BedrijfstakkenBranches\":\"300010\",\"Perioden\":\"2005KW03\",\"IndexcijfersOmzet_1\":\"83.0\",\"OmzetontwikkelingTOVEenJaarEerder_2\":\".\"}\n",
        "{\"ID\":3,\"BedrijfstakkenBranches\":\"300010\",\"Perioden\":\"2005KW04\",\"IndexcijfersOmzet_1\":\"95.2\",\"OmzetontwikkelingTOVEenJaarEerder_2\":\".\"}\n",
        "{\"ID\":4,\"BedrijfstakkenBranches\":\"300010\",\"Perioden\":\"2005JJ00\",\"IndexcijfersOmzet_1\":\"84.0\",\"OmzetontwikkelingTOVEenJaarEerder_2\":\".\"}\n",
        "{\"ID\":5,\"BedrijfstakkenBranches\":\"300010\",\"Perioden\":\"2006KW01\",\"IndexcijfersOmzet_1\":\"82.2\",\"OmzetontwikkelingTOVEenJaarEerder_2\":\"11.2\"}\n",
        "{\"ID\":6,\"BedrijfstakkenBranches\":\"300010\",\"Perioden\":\"2006KW02\",\"IndexcijfersOmzet_1\":\"91.7\",\"OmzetontwikkelingTOVEenJaarEerder_2\":\"9.2\"}\n",
        "{\"ID\":7,\"BedrijfstakkenBranches\":\"300010\",\"Perioden\":\"2006KW03\",\"IndexcijfersOmzet_1\":\"91.2\",\"OmzetontwikkelingTOVEenJaarEerder_2\":\"9.9\"}\n",
        "{\"ID\":8,\"BedrijfstakkenBranches\":\"300010\",\"Perioden\":\"2006KW04\",\"IndexcijfersOmzet_1\":\"105.5\",\"OmzetontwikkelingTOVEenJaarEerder_2\":\"10.8\"}\n",
        "{\"ID\":9,\"BedrijfstakkenBranches\":\"300010\",\"Perioden\":\"2006JJ00\",\"IndexcijfersOmzet_1\":\"92.6\",\"OmzetontwikkelingTOVEenJaarEerder_2\":\"10.3\"}\n",
        "{\"ID\":10,\"BedrijfstakkenBranches\":\"300010\",\"Perioden\":\"2007KW01\",\"IndexcijfersOmzet_1\":\"91.0\",\"OmzetontwikkelingTOVEenJaarEerder_2\":\"10.7\"}\n",
        "\"\"\")\n",
        "\n",
        "csv = io.BytesIO(b\"\"\"straat,woonplaats,minPC4,maxPC4,divPC4,aantPC4\n",
        "Blondeelstraat,Rotterdam,3067,9999,6932,2\n",
        "Molenweg,Zevenhuizen,2761,9354,6593,2\n",
        "De Kamp\tLaren,1251,7245,5994,2\n",
        "Kloosterweg,Laren,1251,7245,5994,2\n",
        "Nieuweweg,Laren,1251,7245,5994,2\n",
        "\"\"\")\n"
      ]
    },
    {
      "cell_type": "code",
      "execution_count": null,
      "metadata": {},
      "outputs": [],
      "source": [
        "\n",
        "dataset_id = 'test'\n",
        "table_id = 'test_ndjson'\n",
        "client = bigquery.Client()\n",
        "\n",
        "table_ref = client.dataset(dataset_id).table(table_id)\n",
        "job_config = bigquery.LoadJobConfig()\n",
        "job_config.source_format = bigquery.SourceFormat.NEWLINE_DELIMITED_JSON\n",
        "# job_config.skip_leading_rows = 1\n",
        "job_config.autodetect = True\n",
        "\n",
        "with ndjson as source_file:\n",
        "    job = client.load_table_from_file(source_file, table_ref, job_config=job_config)\n",
        "\n",
        "job.result()  # Waits for table load to complete.\n",
        "\n",
        "print(\"Loaded {} rows into {}:{}.\".format(job.output_rows, dataset_id, table_id))"
      ]
    },
    {
      "cell_type": "code",
      "source": [
        "from prefect.tasks.gcp.bigquery import BigQueryLoadFile\n",
        "from prefect import Flow\n",
        "\n",
        "dataset_id = 'test'\n",
        "table_id = 'test_ndjson'\n",
        "file = 'test_ndjson'\n",
        "\n",
        "load = BigQueryLoadFile()\n",
        "with Flow(\"Load file\") as flow:\n",
        "    l = load(file='test.ndjson', dataset_id=dataset_id, table=table_id, **{\"source_format\": \"NEWLINE_DELIMITED_JSON\"})\n",
        "\n",
        "flow.run()"
      ],
      "outputs": [
        {
          "output_type": "stream",
          "name": "stdout",
          "text": [
            "[2020-05-11 06:23:20] INFO - prefect.FlowRunner | Beginning Flow run for 'Load file'\n",
            "[2020-05-11 06:23:20] INFO - prefect.FlowRunner | Starting flow run.\n",
            "[2020-05-11 06:23:20] INFO - prefect.TaskRunner | Task 'BigQueryLoadFile': Starting task run...\n",
            "[2020-05-11 06:23:25] INFO - prefect.TaskRunner | Task 'BigQueryLoadFile': finished task run for task with final state: 'Success'\n",
            "[2020-05-11 06:23:25] INFO - prefect.FlowRunner | Flow run SUCCESS: all reference tasks succeeded\n"
          ]
        },
        {
          "output_type": "stream",
          "name": "stderr",
          "text": [
            "/Users/dkapitan/miniconda3/envs/timefflow/lib/python3.8/site-packages/google/auth/_default.py:69: UserWarning: Your application has authenticated using end user credentials from Google Cloud SDK. We recommend that most server applications use service accounts instead. If your application continues to use end user credentials from Cloud SDK, you might receive a \"quota exceeded\" or \"API not enabled\" error. For more information about service accounts, see https://cloud.google.com/docs/authentication/\n",
            "  warnings.warn(_CLOUD_SDK_CREDENTIALS_WARNING)\n",
            "/Users/dkapitan/miniconda3/envs/timefflow/lib/python3.8/site-packages/google/auth/_default.py:69: UserWarning: Your application has authenticated using end user credentials from Google Cloud SDK. We recommend that most server applications use service accounts instead. If your application continues to use end user credentials from Cloud SDK, you might receive a \"quota exceeded\" or \"API not enabled\" error. For more information about service accounts, see https://cloud.google.com/docs/authentication/\n",
            "  warnings.warn(_CLOUD_SDK_CREDENTIALS_WARNING)\n"
          ]
        },
        {
          "output_type": "execute_result",
          "execution_count": 1,
          "data": {
            "text/plain": [
              "<Success: \"All reference tasks succeeded.\">"
            ]
          },
          "metadata": {}
        }
      ],
      "execution_count": 1,
      "metadata": {
        "execution": {
          "iopub.status.busy": "2020-05-11T06:23:18.440Z",
          "iopub.execute_input": "2020-05-11T06:23:18.443Z",
          "iopub.status.idle": "2020-05-11T06:23:25.165Z",
          "shell.execute_reply": "2020-05-11T06:23:25.176Z"
        }
      }
    },
    {
      "cell_type": "code",
      "source": [
        "job_config.to_api_repr()"
      ],
      "outputs": [
        {
          "output_type": "execute_result",
          "execution_count": 10,
          "data": {
            "text/plain": [
              "{'load': {'sourceFormat': 'NEWLINE_DELIMITED_JSON', 'autodetect': True},\n",
              " 'labels': {}}"
            ]
          },
          "metadata": {}
        }
      ],
      "execution_count": 10,
      "metadata": {}
    },
    {
      "cell_type": "code",
      "source": [
        "**job_config.to_api_repr()"
      ],
      "outputs": [
        {
          "output_type": "error",
          "ename": "SyntaxError",
          "evalue": "invalid syntax (<ipython-input-11-9e420c5ef710>, line 1)",
          "traceback": [
            "\u001b[0;36m  File \u001b[0;32m\"<ipython-input-11-9e420c5ef710>\"\u001b[0;36m, line \u001b[0;32m1\u001b[0m\n\u001b[0;31m    **job_config.to_api_repr()\u001b[0m\n\u001b[0m     ^\u001b[0m\n\u001b[0;31mSyntaxError\u001b[0m\u001b[0;31m:\u001b[0m invalid syntax\n"
          ]
        }
      ],
      "execution_count": 11,
      "metadata": {}
    },
    {
      "cell_type": "code",
      "source": [
        "def test_oserror(file_path):\n",
        "    try:\n",
        "        with open(file_path, 'rb') as f:\n",
        "            foo = f.read()\n",
        "    except (OSError, TypeError) as error:\n",
        "        print(f\"Error trying to open {file_path}: {error!s}\")\n"
      ],
      "outputs": [],
      "execution_count": 2,
      "metadata": {}
    },
    {
      "cell_type": "code",
      "execution_count": 3,
      "metadata": {},
      "outputs": [
        {
          "output_type": "stream",
          "name": "stdout",
          "text": "Error trying to open foo.txt: [Errno 13] Permission denied: 'foo.txt'\n"
        }
      ],
      "source": [
        "test_oserror('foo.txt')"
      ]
    },
    {
      "cell_type": "code",
      "execution_count": null,
      "metadata": {},
      "outputs": [],
      "source": [
        "with open(1) as f:\n",
        "    foo = f.read()"
      ]
    },
    {
      "cell_type": "code",
      "execution_count": 12,
      "metadata": {},
      "outputs": [
        {
          "output_type": "stream",
          "name": "stdout",
          "text": "foo.txt                          test-local-secrets-prefect.ipynb\ntest-bigquery-load-file.ipynb    test.ndjson\ntest-cbs-81819.ndjson\n"
        }
      ],
      "source": [
        "!ls"
      ]
    },
    {
      "cell_type": "code",
      "execution_count": null,
      "metadata": {},
      "outputs": [],
      "source": []
    }
  ],
  "metadata": {
    "language_info": {
      "name": "python",
      "version": "3.7.7-final",
      "mimetype": "text/x-python",
      "codemirror_mode": {
        "name": "ipython",
        "version": 3
      },
      "pygments_lexer": "ipython3",
      "nbconvert_exporter": "python",
      "file_extension": ".py"
    },
    "orig_nbformat": 2,
    "kernelspec": {
      "name": "python3",
      "language": "python",
      "display_name": "Python 3"
    },
    "kernel_info": {
      "name": "python37664bitbaseconda14b8ae0e012a474785a865ccb4b63a3a"
    },
    "nteract": {
      "version": "0.23.1"
    }
  },
  "nbformat": 4,
  "nbformat_minor": 2
}